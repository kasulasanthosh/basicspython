{
 "cells": [
  {
   "cell_type": "code",
   "execution_count": 2,
   "id": "8fee18c0-2c84-4b2c-a1b8-d1743b17396a",
   "metadata": {},
   "outputs": [
    {
     "name": "stdout",
     "output_type": "stream",
     "text": [
      "the value of x is 20\n",
      "the value of y is 10\n"
     ]
    }
   ],
   "source": [
    "#1. Declare two variables, `x` and `y`, and assign them integer values.Swap the values of these variables without using any temporary variable.\n",
    "\n",
    "x=10\n",
    "y=20\n",
    "x,y=y,x\n",
    "print(\"the value of x is\",x)\n",
    "print(\"the value of y is\",y)"
   ]
  },
  {
   "cell_type": "code",
   "execution_count": 3,
   "id": "ac22dd4e-03f2-45f6-9d6f-2be8b9448925",
   "metadata": {},
   "outputs": [
    {
     "name": "stdout",
     "output_type": "stream",
     "text": [
      "enter length\n"
     ]
    },
    {
     "name": "stdin",
     "output_type": "stream",
     "text": [
      " 12\n"
     ]
    },
    {
     "name": "stdout",
     "output_type": "stream",
     "text": [
      "enter breadth\n"
     ]
    },
    {
     "name": "stdin",
     "output_type": "stream",
     "text": [
      " 143\n"
     ]
    },
    {
     "name": "stdout",
     "output_type": "stream",
     "text": [
      "the area is 1716.0\n"
     ]
    }
   ],
   "source": [
    "'''Create a program that calculates the area of a rectangle. Take the length and width as inputs from the user and store \n",
    "them in variables. Calculate and display the area'''\n",
    "print(\"enter length\")\n",
    "length=float(input())\n",
    "print(\"enter breadth\")\n",
    "breadth=float(input())\n",
    "area=length*breadth\n",
    "print(\"the area is\",area)"
   ]
  },
  {
   "cell_type": "code",
   "execution_count": 4,
   "id": "b63dee40-a9bb-49de-b299-705d7be689f6",
   "metadata": {},
   "outputs": [
    {
     "name": "stdout",
     "output_type": "stream",
     "text": [
      "enter temperature in degree celsius\n"
     ]
    },
    {
     "name": "stdin",
     "output_type": "stream",
     "text": [
      " 35\n"
     ]
    },
    {
     "name": "stdout",
     "output_type": "stream",
     "text": [
      "the temp is: 95.0\n"
     ]
    }
   ],
   "source": [
    "'''3. Write a Python program that converts temperatures from Celsius to Fahrenheit. Take the temperature in Celsius as input, \n",
    "store it in a variable,convert it to Fahrenheit, and display the result.'''\n",
    "print(\"enter temperature in degree celsius\")\n",
    "te=int(input())\n",
    "f=te*(9/5)+32\n",
    "print(\"the temp in Fahrenheit is:\",f)"
   ]
  },
  {
   "cell_type": "code",
   "execution_count": 5,
   "id": "dbf7e863-cf98-4e0e-8aa3-54b3da514701",
   "metadata": {},
   "outputs": [
    {
     "name": "stdout",
     "output_type": "stream",
     "text": [
      "length of the string 19\n"
     ]
    }
   ],
   "source": [
    "# 1. Write a Python program that takes a string as input and prints the length of the string.\n",
    "s1=\"i am listing python\"\n",
    "le=len(s1)\n",
    "print(\"length of the string\",le)"
   ]
  },
  {
   "cell_type": "code",
   "execution_count": 30,
   "id": "cb5fd2db-9e88-4c5c-8c03-3659937fb6c4",
   "metadata": {},
   "outputs": [
    {
     "name": "stdin",
     "output_type": "stream",
     "text": [
      "enter string: i am santhosh\n"
     ]
    },
    {
     "name": "stdout",
     "output_type": "stream",
     "text": [
      "the number of vowels are: 4\n"
     ]
    }
   ],
   "source": [
    "# 2. Create a program that takes a sentence from the user and counts the number of vowels (a, e, i, o, u) in the string. \n",
    "s2=str(input(\"enter string:\"))\n",
    "vowel=0\n",
    "for v in s2:\n",
    "    if(v=='a'or v=='e'or v=='i'or v=='o'or v=='u'or v=='A'or v=='E'or v=='I' or v=='O' or v=='U'):\n",
    "        vowel=vowel+1\n",
    "print(\"the number of vowels are:\",vowel)\n"
   ]
  },
  {
   "cell_type": "code",
   "execution_count": 28,
   "id": "581947ef-871c-4090-8e10-a2e90165cd94",
   "metadata": {},
   "outputs": [
    {
     "name": "stdout",
     "output_type": "stream",
     "text": [
      "reversed string is:\n",
      " gnimmargorp nohtyp\n"
     ]
    }
   ],
   "source": [
    "# Given a string, reverse the order of characters using string slicing and print the reversed string.\n",
    "s3=\"python programming\"\n",
    "s4=s3[::-1]\n",
    "print(\"reversed string is:\\n\",s4)"
   ]
  },
  {
   "cell_type": "code",
   "execution_count": 33,
   "id": "33f738c0-2f1b-4b8c-a411-94fa13192750",
   "metadata": {},
   "outputs": [
    {
     "name": "stdin",
     "output_type": "stream",
     "text": [
      "enter string: madam\n"
     ]
    },
    {
     "name": "stdout",
     "output_type": "stream",
     "text": [
      "string is palindrome\n"
     ]
    }
   ],
   "source": [
    "# Write a program that takes a string as input and checks if it is a palindrome (reads the same forwards and backwards).\n",
    "s5=str(input(\"enter string:\"))\n",
    "if(s5==s5[::-1]):\n",
    "    print(\"string is palindrome\")\n",
    "else:\n",
    "    print(\"string is not palindrome\")"
   ]
  },
  {
   "cell_type": "code",
   "execution_count": 37,
   "id": "33edffb6-e89c-48c8-94b4-399dc45bcad4",
   "metadata": {},
   "outputs": [
    {
     "name": "stdout",
     "output_type": "stream",
     "text": [
      "output is: i am learning python\n"
     ]
    }
   ],
   "source": [
    "#Create a program that takes a string as input and removes all the spaces from it. Print the modified string without spaces.\n",
    "s6=\"     i am learning python     \"\n",
    "s7=s6.strip()\n",
    "print(\"output is:\",s7)"
   ]
  },
  {
   "cell_type": "code",
   "execution_count": 43,
   "id": "93cb78e3-18d1-467e-9a9a-f1a1268e3d25",
   "metadata": {},
   "outputs": [
    {
     "name": "stdin",
     "output_type": "stream",
     "text": [
      "enter string: i am santhosh\n"
     ]
    },
    {
     "name": "stdout",
     "output_type": "stream",
     "text": [
      "output is: iamsanthosh\n"
     ]
    }
   ],
   "source": [
    "#Create a program that takes a string as input and removes all the spaces from it. Print the modified string without spaces.\n",
    "s6=(input(\"enter string:\"))\n",
    "s7=s6.replace(\" \",\"\")\n",
    "print(\"output is:\",s7)"
   ]
  },
  {
   "cell_type": "code",
   "execution_count": null,
   "id": "297dcf96-d035-4708-8bc6-cac27980d706",
   "metadata": {},
   "outputs": [],
   "source": []
  }
 ],
 "metadata": {
  "kernelspec": {
   "display_name": "Python 3 (ipykernel)",
   "language": "python",
   "name": "python3"
  },
  "language_info": {
   "codemirror_mode": {
    "name": "ipython",
    "version": 3
   },
   "file_extension": ".py",
   "mimetype": "text/x-python",
   "name": "python",
   "nbconvert_exporter": "python",
   "pygments_lexer": "ipython3",
   "version": "3.10.8"
  }
 },
 "nbformat": 4,
 "nbformat_minor": 5
}
